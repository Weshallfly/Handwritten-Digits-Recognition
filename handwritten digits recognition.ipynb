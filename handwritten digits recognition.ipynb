{
 "cells": [
  {
   "cell_type": "markdown",
   "id": "5db1be67",
   "metadata": {},
   "source": [
    "Starting with some **EDA** in normalised data\n",
    "\n",
    "Then starting with a simple **Feedforward Neural Network** with 2 hidden dense layers\n",
    "\n",
    "### Hyperparametric Tuning\n",
    "I have to find the best possible combination of hyperparameters in such a way that model is neither overfit nor underfit and giving a higher accuracy.\n",
    "\n",
    "Model have many hypreparameters  \n",
    "1.No of Layers  \n",
    "2.No of units in different layers  \n",
    "3.Activation function  \n",
    "4.Epochs i.e. No of steps taken by Gradient decsent of reach minimum cost function\n",
    "\n",
    "To achieve a better accuracy I tried many things listed down,most of the thingd doesn't worked.This is may be because the type of data.\n",
    "\n",
    "First,I had tried different combinations of no, of layer,units and epochs but this didn't helped much.\n",
    "\n",
    "Then I tried to average the predictions of many different model but this also didn't helped.\n",
    "\n",
    "Then I tried to fit model on transformed data between 0 and 1.But this also didn't increased the accuracy.\n",
    "\n",
    "### Error Analysis\n",
    "Analysing misclassified examples:Checked if particular digit is generating significantly more error than other digits.Algorithm can be confuse between same looking digits like 6,8 and 9. Then we can increase algorithm attention to them by **Augmentating** more data of them by modifying existing examples.\n",
    "\n",
    "To achieve this, I just doubled each example with target variable 9 and 5.But this doesn,t helped much.So, I stopped working in this direction."
   ]
  },
  {
   "cell_type": "code",
   "execution_count": 1,
   "id": "95b82745",
   "metadata": {},
   "outputs": [],
   "source": [
    "import tensorflow as tf\n",
    "import numpy as np\n",
    "import pandas as pd\n",
    "import matplotlib.pyplot as plt\n",
    "import seaborn as sns\n",
    "\n",
    "mnist = tf.keras.datasets.mnist\n",
    "(X_train_o, y_train), (X_test_o, y_test) = mnist.load_data()\n",
    "\n",
    "X_train= tf.keras.utils.normalize(X_train_o, axis=1)  # Normalizing the data (making length = 1)\n",
    "X_test=tf.keras.utils.normalize(X_test_o, axis=1)\n",
    "\n",
    "X_train2=X_train_o/255\n",
    "X_test2=X_test_o/255"
   ]
  },
  {
   "cell_type": "markdown",
   "id": "b5c19d13",
   "metadata": {},
   "source": [
    "# EDA"
   ]
  },
  {
   "cell_type": "code",
   "execution_count": null,
   "id": "0b714814",
   "metadata": {},
   "outputs": [],
   "source": [
    "X_train_o[1][12][12],X_train[1][12][12],X_train2[1][12][12]"
   ]
  },
  {
   "cell_type": "code",
   "execution_count": 3,
   "id": "2f726c1c",
   "metadata": {},
   "outputs": [
    {
     "data": {
      "text/plain": [
       "((60000, 28, 28), (60000,), (10000, 28, 28), (10000,))"
      ]
     },
     "execution_count": 3,
     "metadata": {},
     "output_type": "execute_result"
    }
   ],
   "source": [
    "X_train.shape,y_train.shape,X_test.shape, y_test.shape"
   ]
  },
  {
   "cell_type": "code",
   "execution_count": 4,
   "id": "9894f993",
   "metadata": {},
   "outputs": [
    {
     "data": {
      "text/html": [
       "<div>\n",
       "<style scoped>\n",
       "    .dataframe tbody tr th:only-of-type {\n",
       "        vertical-align: middle;\n",
       "    }\n",
       "\n",
       "    .dataframe tbody tr th {\n",
       "        vertical-align: top;\n",
       "    }\n",
       "\n",
       "    .dataframe thead th {\n",
       "        text-align: right;\n",
       "    }\n",
       "</style>\n",
       "<table border=\"1\" class=\"dataframe\">\n",
       "  <thead>\n",
       "    <tr style=\"text-align: right;\">\n",
       "      <th></th>\n",
       "      <th>0</th>\n",
       "      <th>1</th>\n",
       "      <th>2</th>\n",
       "      <th>3</th>\n",
       "      <th>4</th>\n",
       "      <th>5</th>\n",
       "      <th>6</th>\n",
       "      <th>7</th>\n",
       "      <th>8</th>\n",
       "      <th>9</th>\n",
       "      <th>...</th>\n",
       "      <th>18</th>\n",
       "      <th>19</th>\n",
       "      <th>20</th>\n",
       "      <th>21</th>\n",
       "      <th>22</th>\n",
       "      <th>23</th>\n",
       "      <th>24</th>\n",
       "      <th>25</th>\n",
       "      <th>26</th>\n",
       "      <th>27</th>\n",
       "    </tr>\n",
       "  </thead>\n",
       "  <tbody>\n",
       "    <tr>\n",
       "      <th>0</th>\n",
       "      <td>0.0</td>\n",
       "      <td>0.0</td>\n",
       "      <td>0.0</td>\n",
       "      <td>0.0</td>\n",
       "      <td>0.0</td>\n",
       "      <td>0.0</td>\n",
       "      <td>0.000000</td>\n",
       "      <td>0.000000</td>\n",
       "      <td>0.000000</td>\n",
       "      <td>0.000000</td>\n",
       "      <td>...</td>\n",
       "      <td>0.000000</td>\n",
       "      <td>0.000000</td>\n",
       "      <td>0.000000</td>\n",
       "      <td>0.000000</td>\n",
       "      <td>0.000000</td>\n",
       "      <td>0.0</td>\n",
       "      <td>0.0</td>\n",
       "      <td>0.0</td>\n",
       "      <td>0.0</td>\n",
       "      <td>0.0</td>\n",
       "    </tr>\n",
       "    <tr>\n",
       "      <th>1</th>\n",
       "      <td>0.0</td>\n",
       "      <td>0.0</td>\n",
       "      <td>0.0</td>\n",
       "      <td>0.0</td>\n",
       "      <td>0.0</td>\n",
       "      <td>0.0</td>\n",
       "      <td>0.000000</td>\n",
       "      <td>0.000000</td>\n",
       "      <td>0.000000</td>\n",
       "      <td>0.000000</td>\n",
       "      <td>...</td>\n",
       "      <td>0.000000</td>\n",
       "      <td>0.000000</td>\n",
       "      <td>0.000000</td>\n",
       "      <td>0.000000</td>\n",
       "      <td>0.000000</td>\n",
       "      <td>0.0</td>\n",
       "      <td>0.0</td>\n",
       "      <td>0.0</td>\n",
       "      <td>0.0</td>\n",
       "      <td>0.0</td>\n",
       "    </tr>\n",
       "    <tr>\n",
       "      <th>2</th>\n",
       "      <td>0.0</td>\n",
       "      <td>0.0</td>\n",
       "      <td>0.0</td>\n",
       "      <td>0.0</td>\n",
       "      <td>0.0</td>\n",
       "      <td>0.0</td>\n",
       "      <td>0.000000</td>\n",
       "      <td>0.000000</td>\n",
       "      <td>0.000000</td>\n",
       "      <td>0.000000</td>\n",
       "      <td>...</td>\n",
       "      <td>0.000000</td>\n",
       "      <td>0.000000</td>\n",
       "      <td>0.000000</td>\n",
       "      <td>0.000000</td>\n",
       "      <td>0.000000</td>\n",
       "      <td>0.0</td>\n",
       "      <td>0.0</td>\n",
       "      <td>0.0</td>\n",
       "      <td>0.0</td>\n",
       "      <td>0.0</td>\n",
       "    </tr>\n",
       "    <tr>\n",
       "      <th>3</th>\n",
       "      <td>0.0</td>\n",
       "      <td>0.0</td>\n",
       "      <td>0.0</td>\n",
       "      <td>0.0</td>\n",
       "      <td>0.0</td>\n",
       "      <td>0.0</td>\n",
       "      <td>0.000000</td>\n",
       "      <td>0.000000</td>\n",
       "      <td>0.000000</td>\n",
       "      <td>0.000000</td>\n",
       "      <td>...</td>\n",
       "      <td>0.000000</td>\n",
       "      <td>0.000000</td>\n",
       "      <td>0.000000</td>\n",
       "      <td>0.000000</td>\n",
       "      <td>0.000000</td>\n",
       "      <td>0.0</td>\n",
       "      <td>0.0</td>\n",
       "      <td>0.0</td>\n",
       "      <td>0.0</td>\n",
       "      <td>0.0</td>\n",
       "    </tr>\n",
       "    <tr>\n",
       "      <th>4</th>\n",
       "      <td>0.0</td>\n",
       "      <td>0.0</td>\n",
       "      <td>0.0</td>\n",
       "      <td>0.0</td>\n",
       "      <td>0.0</td>\n",
       "      <td>0.0</td>\n",
       "      <td>0.000000</td>\n",
       "      <td>0.000000</td>\n",
       "      <td>0.000000</td>\n",
       "      <td>0.000000</td>\n",
       "      <td>...</td>\n",
       "      <td>0.305065</td>\n",
       "      <td>0.085838</td>\n",
       "      <td>0.000000</td>\n",
       "      <td>0.000000</td>\n",
       "      <td>0.000000</td>\n",
       "      <td>0.0</td>\n",
       "      <td>0.0</td>\n",
       "      <td>0.0</td>\n",
       "      <td>0.0</td>\n",
       "      <td>0.0</td>\n",
       "    </tr>\n",
       "    <tr>\n",
       "      <th>5</th>\n",
       "      <td>0.0</td>\n",
       "      <td>0.0</td>\n",
       "      <td>0.0</td>\n",
       "      <td>0.0</td>\n",
       "      <td>0.0</td>\n",
       "      <td>0.0</td>\n",
       "      <td>0.000000</td>\n",
       "      <td>0.000000</td>\n",
       "      <td>0.000000</td>\n",
       "      <td>0.000000</td>\n",
       "      <td>...</td>\n",
       "      <td>0.483500</td>\n",
       "      <td>0.406872</td>\n",
       "      <td>0.000000</td>\n",
       "      <td>0.000000</td>\n",
       "      <td>0.000000</td>\n",
       "      <td>0.0</td>\n",
       "      <td>0.0</td>\n",
       "      <td>0.0</td>\n",
       "      <td>0.0</td>\n",
       "      <td>0.0</td>\n",
       "    </tr>\n",
       "    <tr>\n",
       "      <th>6</th>\n",
       "      <td>0.0</td>\n",
       "      <td>0.0</td>\n",
       "      <td>0.0</td>\n",
       "      <td>0.0</td>\n",
       "      <td>0.0</td>\n",
       "      <td>0.0</td>\n",
       "      <td>0.000000</td>\n",
       "      <td>0.000000</td>\n",
       "      <td>0.000000</td>\n",
       "      <td>0.000000</td>\n",
       "      <td>...</td>\n",
       "      <td>0.447046</td>\n",
       "      <td>0.432624</td>\n",
       "      <td>0.068324</td>\n",
       "      <td>0.008591</td>\n",
       "      <td>0.000000</td>\n",
       "      <td>0.0</td>\n",
       "      <td>0.0</td>\n",
       "      <td>0.0</td>\n",
       "      <td>0.0</td>\n",
       "      <td>0.0</td>\n",
       "    </tr>\n",
       "    <tr>\n",
       "      <th>7</th>\n",
       "      <td>0.0</td>\n",
       "      <td>0.0</td>\n",
       "      <td>0.0</td>\n",
       "      <td>0.0</td>\n",
       "      <td>0.0</td>\n",
       "      <td>0.0</td>\n",
       "      <td>0.000000</td>\n",
       "      <td>0.000000</td>\n",
       "      <td>0.000000</td>\n",
       "      <td>0.000000</td>\n",
       "      <td>...</td>\n",
       "      <td>0.161167</td>\n",
       "      <td>0.432624</td>\n",
       "      <td>0.303261</td>\n",
       "      <td>0.174688</td>\n",
       "      <td>0.000000</td>\n",
       "      <td>0.0</td>\n",
       "      <td>0.0</td>\n",
       "      <td>0.0</td>\n",
       "      <td>0.0</td>\n",
       "      <td>0.0</td>\n",
       "    </tr>\n",
       "    <tr>\n",
       "      <th>8</th>\n",
       "      <td>0.0</td>\n",
       "      <td>0.0</td>\n",
       "      <td>0.0</td>\n",
       "      <td>0.0</td>\n",
       "      <td>0.0</td>\n",
       "      <td>0.0</td>\n",
       "      <td>0.000000</td>\n",
       "      <td>0.000000</td>\n",
       "      <td>0.000000</td>\n",
       "      <td>0.000000</td>\n",
       "      <td>...</td>\n",
       "      <td>0.184190</td>\n",
       "      <td>0.324468</td>\n",
       "      <td>0.303261</td>\n",
       "      <td>0.239123</td>\n",
       "      <td>0.000000</td>\n",
       "      <td>0.0</td>\n",
       "      <td>0.0</td>\n",
       "      <td>0.0</td>\n",
       "      <td>0.0</td>\n",
       "      <td>0.0</td>\n",
       "    </tr>\n",
       "    <tr>\n",
       "      <th>9</th>\n",
       "      <td>0.0</td>\n",
       "      <td>0.0</td>\n",
       "      <td>0.0</td>\n",
       "      <td>0.0</td>\n",
       "      <td>0.0</td>\n",
       "      <td>0.0</td>\n",
       "      <td>0.000000</td>\n",
       "      <td>0.000000</td>\n",
       "      <td>0.000000</td>\n",
       "      <td>0.000000</td>\n",
       "      <td>...</td>\n",
       "      <td>0.090177</td>\n",
       "      <td>0.135624</td>\n",
       "      <td>0.305659</td>\n",
       "      <td>0.240554</td>\n",
       "      <td>0.000000</td>\n",
       "      <td>0.0</td>\n",
       "      <td>0.0</td>\n",
       "      <td>0.0</td>\n",
       "      <td>0.0</td>\n",
       "      <td>0.0</td>\n",
       "    </tr>\n",
       "    <tr>\n",
       "      <th>10</th>\n",
       "      <td>0.0</td>\n",
       "      <td>0.0</td>\n",
       "      <td>0.0</td>\n",
       "      <td>0.0</td>\n",
       "      <td>0.0</td>\n",
       "      <td>0.0</td>\n",
       "      <td>0.000000</td>\n",
       "      <td>0.000000</td>\n",
       "      <td>0.000000</td>\n",
       "      <td>0.074275</td>\n",
       "      <td>...</td>\n",
       "      <td>0.000000</td>\n",
       "      <td>0.000000</td>\n",
       "      <td>0.303261</td>\n",
       "      <td>0.347945</td>\n",
       "      <td>0.122632</td>\n",
       "      <td>0.0</td>\n",
       "      <td>0.0</td>\n",
       "      <td>0.0</td>\n",
       "      <td>0.0</td>\n",
       "      <td>0.0</td>\n",
       "    </tr>\n",
       "    <tr>\n",
       "      <th>11</th>\n",
       "      <td>0.0</td>\n",
       "      <td>0.0</td>\n",
       "      <td>0.0</td>\n",
       "      <td>0.0</td>\n",
       "      <td>0.0</td>\n",
       "      <td>0.0</td>\n",
       "      <td>0.000000</td>\n",
       "      <td>0.000000</td>\n",
       "      <td>0.048902</td>\n",
       "      <td>0.255321</td>\n",
       "      <td>...</td>\n",
       "      <td>0.000000</td>\n",
       "      <td>0.000000</td>\n",
       "      <td>0.303261</td>\n",
       "      <td>0.360832</td>\n",
       "      <td>0.404685</td>\n",
       "      <td>0.0</td>\n",
       "      <td>0.0</td>\n",
       "      <td>0.0</td>\n",
       "      <td>0.0</td>\n",
       "      <td>0.0</td>\n",
       "    </tr>\n",
       "    <tr>\n",
       "      <th>12</th>\n",
       "      <td>0.0</td>\n",
       "      <td>0.0</td>\n",
       "      <td>0.0</td>\n",
       "      <td>0.0</td>\n",
       "      <td>0.0</td>\n",
       "      <td>0.0</td>\n",
       "      <td>0.000000</td>\n",
       "      <td>0.009663</td>\n",
       "      <td>0.229070</td>\n",
       "      <td>0.389944</td>\n",
       "      <td>...</td>\n",
       "      <td>0.000000</td>\n",
       "      <td>0.000000</td>\n",
       "      <td>0.303261</td>\n",
       "      <td>0.360832</td>\n",
       "      <td>0.478265</td>\n",
       "      <td>0.0</td>\n",
       "      <td>0.0</td>\n",
       "      <td>0.0</td>\n",
       "      <td>0.0</td>\n",
       "      <td>0.0</td>\n",
       "    </tr>\n",
       "    <tr>\n",
       "      <th>13</th>\n",
       "      <td>0.0</td>\n",
       "      <td>0.0</td>\n",
       "      <td>0.0</td>\n",
       "      <td>0.0</td>\n",
       "      <td>0.0</td>\n",
       "      <td>0.0</td>\n",
       "      <td>0.000000</td>\n",
       "      <td>0.078684</td>\n",
       "      <td>0.324301</td>\n",
       "      <td>0.389944</td>\n",
       "      <td>...</td>\n",
       "      <td>0.000000</td>\n",
       "      <td>0.000000</td>\n",
       "      <td>0.303261</td>\n",
       "      <td>0.360832</td>\n",
       "      <td>0.478265</td>\n",
       "      <td>0.0</td>\n",
       "      <td>0.0</td>\n",
       "      <td>0.0</td>\n",
       "      <td>0.0</td>\n",
       "      <td>0.0</td>\n",
       "    </tr>\n",
       "    <tr>\n",
       "      <th>14</th>\n",
       "      <td>0.0</td>\n",
       "      <td>0.0</td>\n",
       "      <td>0.0</td>\n",
       "      <td>0.0</td>\n",
       "      <td>0.0</td>\n",
       "      <td>0.0</td>\n",
       "      <td>0.000000</td>\n",
       "      <td>0.273325</td>\n",
       "      <td>0.325588</td>\n",
       "      <td>0.294006</td>\n",
       "      <td>...</td>\n",
       "      <td>0.000000</td>\n",
       "      <td>0.000000</td>\n",
       "      <td>0.305659</td>\n",
       "      <td>0.362263</td>\n",
       "      <td>0.480717</td>\n",
       "      <td>0.0</td>\n",
       "      <td>0.0</td>\n",
       "      <td>0.0</td>\n",
       "      <td>0.0</td>\n",
       "      <td>0.0</td>\n",
       "    </tr>\n",
       "    <tr>\n",
       "      <th>15</th>\n",
       "      <td>0.0</td>\n",
       "      <td>0.0</td>\n",
       "      <td>0.0</td>\n",
       "      <td>0.0</td>\n",
       "      <td>0.0</td>\n",
       "      <td>0.0</td>\n",
       "      <td>0.339607</td>\n",
       "      <td>0.339586</td>\n",
       "      <td>0.324301</td>\n",
       "      <td>0.173309</td>\n",
       "      <td>...</td>\n",
       "      <td>0.000000</td>\n",
       "      <td>0.000000</td>\n",
       "      <td>0.303261</td>\n",
       "      <td>0.360832</td>\n",
       "      <td>0.362990</td>\n",
       "      <td>0.0</td>\n",
       "      <td>0.0</td>\n",
       "      <td>0.0</td>\n",
       "      <td>0.0</td>\n",
       "      <td>0.0</td>\n",
       "    </tr>\n",
       "    <tr>\n",
       "      <th>16</th>\n",
       "      <td>0.0</td>\n",
       "      <td>0.0</td>\n",
       "      <td>0.0</td>\n",
       "      <td>0.0</td>\n",
       "      <td>0.0</td>\n",
       "      <td>0.0</td>\n",
       "      <td>0.379824</td>\n",
       "      <td>0.347868</td>\n",
       "      <td>0.295989</td>\n",
       "      <td>0.038685</td>\n",
       "      <td>...</td>\n",
       "      <td>0.013431</td>\n",
       "      <td>0.231763</td>\n",
       "      <td>0.303261</td>\n",
       "      <td>0.266328</td>\n",
       "      <td>0.029432</td>\n",
       "      <td>0.0</td>\n",
       "      <td>0.0</td>\n",
       "      <td>0.0</td>\n",
       "      <td>0.0</td>\n",
       "      <td>0.0</td>\n",
       "    </tr>\n",
       "    <tr>\n",
       "      <th>17</th>\n",
       "      <td>0.0</td>\n",
       "      <td>0.0</td>\n",
       "      <td>0.0</td>\n",
       "      <td>0.0</td>\n",
       "      <td>0.0</td>\n",
       "      <td>0.0</td>\n",
       "      <td>0.379824</td>\n",
       "      <td>0.347868</td>\n",
       "      <td>0.286980</td>\n",
       "      <td>0.000000</td>\n",
       "      <td>...</td>\n",
       "      <td>0.251343</td>\n",
       "      <td>0.432624</td>\n",
       "      <td>0.269699</td>\n",
       "      <td>0.101663</td>\n",
       "      <td>0.000000</td>\n",
       "      <td>0.0</td>\n",
       "      <td>0.0</td>\n",
       "      <td>0.0</td>\n",
       "      <td>0.0</td>\n",
       "      <td>0.0</td>\n",
       "    </tr>\n",
       "    <tr>\n",
       "      <th>18</th>\n",
       "      <td>0.0</td>\n",
       "      <td>0.0</td>\n",
       "      <td>0.0</td>\n",
       "      <td>0.0</td>\n",
       "      <td>0.0</td>\n",
       "      <td>0.0</td>\n",
       "      <td>0.379824</td>\n",
       "      <td>0.347868</td>\n",
       "      <td>0.186602</td>\n",
       "      <td>0.000000</td>\n",
       "      <td>...</td>\n",
       "      <td>0.483500</td>\n",
       "      <td>0.297000</td>\n",
       "      <td>0.000000</td>\n",
       "      <td>0.000000</td>\n",
       "      <td>0.000000</td>\n",
       "      <td>0.0</td>\n",
       "      <td>0.0</td>\n",
       "      <td>0.0</td>\n",
       "      <td>0.0</td>\n",
       "      <td>0.0</td>\n",
       "    </tr>\n",
       "    <tr>\n",
       "      <th>19</th>\n",
       "      <td>0.0</td>\n",
       "      <td>0.0</td>\n",
       "      <td>0.0</td>\n",
       "      <td>0.0</td>\n",
       "      <td>0.0</td>\n",
       "      <td>0.0</td>\n",
       "      <td>0.384293</td>\n",
       "      <td>0.349249</td>\n",
       "      <td>0.289554</td>\n",
       "      <td>0.000000</td>\n",
       "      <td>...</td>\n",
       "      <td>0.310821</td>\n",
       "      <td>0.000000</td>\n",
       "      <td>0.000000</td>\n",
       "      <td>0.000000</td>\n",
       "      <td>0.000000</td>\n",
       "      <td>0.0</td>\n",
       "      <td>0.0</td>\n",
       "      <td>0.0</td>\n",
       "      <td>0.0</td>\n",
       "      <td>0.0</td>\n",
       "    </tr>\n",
       "    <tr>\n",
       "      <th>20</th>\n",
       "      <td>0.0</td>\n",
       "      <td>0.0</td>\n",
       "      <td>0.0</td>\n",
       "      <td>0.0</td>\n",
       "      <td>0.0</td>\n",
       "      <td>0.0</td>\n",
       "      <td>0.379824</td>\n",
       "      <td>0.347868</td>\n",
       "      <td>0.320440</td>\n",
       "      <td>0.225920</td>\n",
       "      <td>...</td>\n",
       "      <td>0.107444</td>\n",
       "      <td>0.000000</td>\n",
       "      <td>0.000000</td>\n",
       "      <td>0.000000</td>\n",
       "      <td>0.000000</td>\n",
       "      <td>0.0</td>\n",
       "      <td>0.0</td>\n",
       "      <td>0.0</td>\n",
       "      <td>0.0</td>\n",
       "      <td>0.0</td>\n",
       "    </tr>\n",
       "    <tr>\n",
       "      <th>21</th>\n",
       "      <td>0.0</td>\n",
       "      <td>0.0</td>\n",
       "      <td>0.0</td>\n",
       "      <td>0.0</td>\n",
       "      <td>0.0</td>\n",
       "      <td>0.0</td>\n",
       "      <td>0.379824</td>\n",
       "      <td>0.347868</td>\n",
       "      <td>0.324301</td>\n",
       "      <td>0.389944</td>\n",
       "      <td>...</td>\n",
       "      <td>0.000000</td>\n",
       "      <td>0.000000</td>\n",
       "      <td>0.000000</td>\n",
       "      <td>0.000000</td>\n",
       "      <td>0.000000</td>\n",
       "      <td>0.0</td>\n",
       "      <td>0.0</td>\n",
       "      <td>0.0</td>\n",
       "      <td>0.0</td>\n",
       "      <td>0.0</td>\n",
       "    </tr>\n",
       "    <tr>\n",
       "      <th>22</th>\n",
       "      <td>0.0</td>\n",
       "      <td>0.0</td>\n",
       "      <td>0.0</td>\n",
       "      <td>0.0</td>\n",
       "      <td>0.0</td>\n",
       "      <td>0.0</td>\n",
       "      <td>0.125119</td>\n",
       "      <td>0.274705</td>\n",
       "      <td>0.324301</td>\n",
       "      <td>0.389944</td>\n",
       "      <td>...</td>\n",
       "      <td>0.000000</td>\n",
       "      <td>0.000000</td>\n",
       "      <td>0.000000</td>\n",
       "      <td>0.000000</td>\n",
       "      <td>0.000000</td>\n",
       "      <td>0.0</td>\n",
       "      <td>0.0</td>\n",
       "      <td>0.0</td>\n",
       "      <td>0.0</td>\n",
       "      <td>0.0</td>\n",
       "    </tr>\n",
       "    <tr>\n",
       "      <th>23</th>\n",
       "      <td>0.0</td>\n",
       "      <td>0.0</td>\n",
       "      <td>0.0</td>\n",
       "      <td>0.0</td>\n",
       "      <td>0.0</td>\n",
       "      <td>0.0</td>\n",
       "      <td>0.000000</td>\n",
       "      <td>0.034511</td>\n",
       "      <td>0.164724</td>\n",
       "      <td>0.389944</td>\n",
       "      <td>...</td>\n",
       "      <td>0.000000</td>\n",
       "      <td>0.000000</td>\n",
       "      <td>0.000000</td>\n",
       "      <td>0.000000</td>\n",
       "      <td>0.000000</td>\n",
       "      <td>0.0</td>\n",
       "      <td>0.0</td>\n",
       "      <td>0.0</td>\n",
       "      <td>0.0</td>\n",
       "      <td>0.0</td>\n",
       "    </tr>\n",
       "    <tr>\n",
       "      <th>24</th>\n",
       "      <td>0.0</td>\n",
       "      <td>0.0</td>\n",
       "      <td>0.0</td>\n",
       "      <td>0.0</td>\n",
       "      <td>0.0</td>\n",
       "      <td>0.0</td>\n",
       "      <td>0.000000</td>\n",
       "      <td>0.000000</td>\n",
       "      <td>0.000000</td>\n",
       "      <td>0.000000</td>\n",
       "      <td>...</td>\n",
       "      <td>0.000000</td>\n",
       "      <td>0.000000</td>\n",
       "      <td>0.000000</td>\n",
       "      <td>0.000000</td>\n",
       "      <td>0.000000</td>\n",
       "      <td>0.0</td>\n",
       "      <td>0.0</td>\n",
       "      <td>0.0</td>\n",
       "      <td>0.0</td>\n",
       "      <td>0.0</td>\n",
       "    </tr>\n",
       "    <tr>\n",
       "      <th>25</th>\n",
       "      <td>0.0</td>\n",
       "      <td>0.0</td>\n",
       "      <td>0.0</td>\n",
       "      <td>0.0</td>\n",
       "      <td>0.0</td>\n",
       "      <td>0.0</td>\n",
       "      <td>0.000000</td>\n",
       "      <td>0.000000</td>\n",
       "      <td>0.000000</td>\n",
       "      <td>0.000000</td>\n",
       "      <td>...</td>\n",
       "      <td>0.000000</td>\n",
       "      <td>0.000000</td>\n",
       "      <td>0.000000</td>\n",
       "      <td>0.000000</td>\n",
       "      <td>0.000000</td>\n",
       "      <td>0.0</td>\n",
       "      <td>0.0</td>\n",
       "      <td>0.0</td>\n",
       "      <td>0.0</td>\n",
       "      <td>0.0</td>\n",
       "    </tr>\n",
       "    <tr>\n",
       "      <th>26</th>\n",
       "      <td>0.0</td>\n",
       "      <td>0.0</td>\n",
       "      <td>0.0</td>\n",
       "      <td>0.0</td>\n",
       "      <td>0.0</td>\n",
       "      <td>0.0</td>\n",
       "      <td>0.000000</td>\n",
       "      <td>0.000000</td>\n",
       "      <td>0.000000</td>\n",
       "      <td>0.000000</td>\n",
       "      <td>...</td>\n",
       "      <td>0.000000</td>\n",
       "      <td>0.000000</td>\n",
       "      <td>0.000000</td>\n",
       "      <td>0.000000</td>\n",
       "      <td>0.000000</td>\n",
       "      <td>0.0</td>\n",
       "      <td>0.0</td>\n",
       "      <td>0.0</td>\n",
       "      <td>0.0</td>\n",
       "      <td>0.0</td>\n",
       "    </tr>\n",
       "    <tr>\n",
       "      <th>27</th>\n",
       "      <td>0.0</td>\n",
       "      <td>0.0</td>\n",
       "      <td>0.0</td>\n",
       "      <td>0.0</td>\n",
       "      <td>0.0</td>\n",
       "      <td>0.0</td>\n",
       "      <td>0.000000</td>\n",
       "      <td>0.000000</td>\n",
       "      <td>0.000000</td>\n",
       "      <td>0.000000</td>\n",
       "      <td>...</td>\n",
       "      <td>0.000000</td>\n",
       "      <td>0.000000</td>\n",
       "      <td>0.000000</td>\n",
       "      <td>0.000000</td>\n",
       "      <td>0.000000</td>\n",
       "      <td>0.0</td>\n",
       "      <td>0.0</td>\n",
       "      <td>0.0</td>\n",
       "      <td>0.0</td>\n",
       "      <td>0.0</td>\n",
       "    </tr>\n",
       "  </tbody>\n",
       "</table>\n",
       "<p>28 rows × 28 columns</p>\n",
       "</div>"
      ],
      "text/plain": [
       "     0    1    2    3    4    5         6         7         8         9   ...  \\\n",
       "0   0.0  0.0  0.0  0.0  0.0  0.0  0.000000  0.000000  0.000000  0.000000  ...   \n",
       "1   0.0  0.0  0.0  0.0  0.0  0.0  0.000000  0.000000  0.000000  0.000000  ...   \n",
       "2   0.0  0.0  0.0  0.0  0.0  0.0  0.000000  0.000000  0.000000  0.000000  ...   \n",
       "3   0.0  0.0  0.0  0.0  0.0  0.0  0.000000  0.000000  0.000000  0.000000  ...   \n",
       "4   0.0  0.0  0.0  0.0  0.0  0.0  0.000000  0.000000  0.000000  0.000000  ...   \n",
       "5   0.0  0.0  0.0  0.0  0.0  0.0  0.000000  0.000000  0.000000  0.000000  ...   \n",
       "6   0.0  0.0  0.0  0.0  0.0  0.0  0.000000  0.000000  0.000000  0.000000  ...   \n",
       "7   0.0  0.0  0.0  0.0  0.0  0.0  0.000000  0.000000  0.000000  0.000000  ...   \n",
       "8   0.0  0.0  0.0  0.0  0.0  0.0  0.000000  0.000000  0.000000  0.000000  ...   \n",
       "9   0.0  0.0  0.0  0.0  0.0  0.0  0.000000  0.000000  0.000000  0.000000  ...   \n",
       "10  0.0  0.0  0.0  0.0  0.0  0.0  0.000000  0.000000  0.000000  0.074275  ...   \n",
       "11  0.0  0.0  0.0  0.0  0.0  0.0  0.000000  0.000000  0.048902  0.255321  ...   \n",
       "12  0.0  0.0  0.0  0.0  0.0  0.0  0.000000  0.009663  0.229070  0.389944  ...   \n",
       "13  0.0  0.0  0.0  0.0  0.0  0.0  0.000000  0.078684  0.324301  0.389944  ...   \n",
       "14  0.0  0.0  0.0  0.0  0.0  0.0  0.000000  0.273325  0.325588  0.294006  ...   \n",
       "15  0.0  0.0  0.0  0.0  0.0  0.0  0.339607  0.339586  0.324301  0.173309  ...   \n",
       "16  0.0  0.0  0.0  0.0  0.0  0.0  0.379824  0.347868  0.295989  0.038685  ...   \n",
       "17  0.0  0.0  0.0  0.0  0.0  0.0  0.379824  0.347868  0.286980  0.000000  ...   \n",
       "18  0.0  0.0  0.0  0.0  0.0  0.0  0.379824  0.347868  0.186602  0.000000  ...   \n",
       "19  0.0  0.0  0.0  0.0  0.0  0.0  0.384293  0.349249  0.289554  0.000000  ...   \n",
       "20  0.0  0.0  0.0  0.0  0.0  0.0  0.379824  0.347868  0.320440  0.225920  ...   \n",
       "21  0.0  0.0  0.0  0.0  0.0  0.0  0.379824  0.347868  0.324301  0.389944  ...   \n",
       "22  0.0  0.0  0.0  0.0  0.0  0.0  0.125119  0.274705  0.324301  0.389944  ...   \n",
       "23  0.0  0.0  0.0  0.0  0.0  0.0  0.000000  0.034511  0.164724  0.389944  ...   \n",
       "24  0.0  0.0  0.0  0.0  0.0  0.0  0.000000  0.000000  0.000000  0.000000  ...   \n",
       "25  0.0  0.0  0.0  0.0  0.0  0.0  0.000000  0.000000  0.000000  0.000000  ...   \n",
       "26  0.0  0.0  0.0  0.0  0.0  0.0  0.000000  0.000000  0.000000  0.000000  ...   \n",
       "27  0.0  0.0  0.0  0.0  0.0  0.0  0.000000  0.000000  0.000000  0.000000  ...   \n",
       "\n",
       "          18        19        20        21        22   23   24   25   26   27  \n",
       "0   0.000000  0.000000  0.000000  0.000000  0.000000  0.0  0.0  0.0  0.0  0.0  \n",
       "1   0.000000  0.000000  0.000000  0.000000  0.000000  0.0  0.0  0.0  0.0  0.0  \n",
       "2   0.000000  0.000000  0.000000  0.000000  0.000000  0.0  0.0  0.0  0.0  0.0  \n",
       "3   0.000000  0.000000  0.000000  0.000000  0.000000  0.0  0.0  0.0  0.0  0.0  \n",
       "4   0.305065  0.085838  0.000000  0.000000  0.000000  0.0  0.0  0.0  0.0  0.0  \n",
       "5   0.483500  0.406872  0.000000  0.000000  0.000000  0.0  0.0  0.0  0.0  0.0  \n",
       "6   0.447046  0.432624  0.068324  0.008591  0.000000  0.0  0.0  0.0  0.0  0.0  \n",
       "7   0.161167  0.432624  0.303261  0.174688  0.000000  0.0  0.0  0.0  0.0  0.0  \n",
       "8   0.184190  0.324468  0.303261  0.239123  0.000000  0.0  0.0  0.0  0.0  0.0  \n",
       "9   0.090177  0.135624  0.305659  0.240554  0.000000  0.0  0.0  0.0  0.0  0.0  \n",
       "10  0.000000  0.000000  0.303261  0.347945  0.122632  0.0  0.0  0.0  0.0  0.0  \n",
       "11  0.000000  0.000000  0.303261  0.360832  0.404685  0.0  0.0  0.0  0.0  0.0  \n",
       "12  0.000000  0.000000  0.303261  0.360832  0.478265  0.0  0.0  0.0  0.0  0.0  \n",
       "13  0.000000  0.000000  0.303261  0.360832  0.478265  0.0  0.0  0.0  0.0  0.0  \n",
       "14  0.000000  0.000000  0.305659  0.362263  0.480717  0.0  0.0  0.0  0.0  0.0  \n",
       "15  0.000000  0.000000  0.303261  0.360832  0.362990  0.0  0.0  0.0  0.0  0.0  \n",
       "16  0.013431  0.231763  0.303261  0.266328  0.029432  0.0  0.0  0.0  0.0  0.0  \n",
       "17  0.251343  0.432624  0.269699  0.101663  0.000000  0.0  0.0  0.0  0.0  0.0  \n",
       "18  0.483500  0.297000  0.000000  0.000000  0.000000  0.0  0.0  0.0  0.0  0.0  \n",
       "19  0.310821  0.000000  0.000000  0.000000  0.000000  0.0  0.0  0.0  0.0  0.0  \n",
       "20  0.107444  0.000000  0.000000  0.000000  0.000000  0.0  0.0  0.0  0.0  0.0  \n",
       "21  0.000000  0.000000  0.000000  0.000000  0.000000  0.0  0.0  0.0  0.0  0.0  \n",
       "22  0.000000  0.000000  0.000000  0.000000  0.000000  0.0  0.0  0.0  0.0  0.0  \n",
       "23  0.000000  0.000000  0.000000  0.000000  0.000000  0.0  0.0  0.0  0.0  0.0  \n",
       "24  0.000000  0.000000  0.000000  0.000000  0.000000  0.0  0.0  0.0  0.0  0.0  \n",
       "25  0.000000  0.000000  0.000000  0.000000  0.000000  0.0  0.0  0.0  0.0  0.0  \n",
       "26  0.000000  0.000000  0.000000  0.000000  0.000000  0.0  0.0  0.0  0.0  0.0  \n",
       "27  0.000000  0.000000  0.000000  0.000000  0.000000  0.0  0.0  0.0  0.0  0.0  \n",
       "\n",
       "[28 rows x 28 columns]"
      ]
     },
     "execution_count": 4,
     "metadata": {},
     "output_type": "execute_result"
    }
   ],
   "source": [
    "pd.DataFrame(X_train[1])"
   ]
  },
  {
   "cell_type": "code",
   "execution_count": 5,
   "id": "645f9cb2",
   "metadata": {
    "scrolled": true
   },
   "outputs": [
    {
     "data": {
      "text/html": [
       "<div>\n",
       "<style scoped>\n",
       "    .dataframe tbody tr th:only-of-type {\n",
       "        vertical-align: middle;\n",
       "    }\n",
       "\n",
       "    .dataframe tbody tr th {\n",
       "        vertical-align: top;\n",
       "    }\n",
       "\n",
       "    .dataframe thead th {\n",
       "        text-align: right;\n",
       "    }\n",
       "</style>\n",
       "<table border=\"1\" class=\"dataframe\">\n",
       "  <thead>\n",
       "    <tr style=\"text-align: right;\">\n",
       "      <th></th>\n",
       "      <th>0</th>\n",
       "    </tr>\n",
       "  </thead>\n",
       "  <tbody>\n",
       "    <tr>\n",
       "      <th>0</th>\n",
       "      <td>5</td>\n",
       "    </tr>\n",
       "    <tr>\n",
       "      <th>1</th>\n",
       "      <td>0</td>\n",
       "    </tr>\n",
       "    <tr>\n",
       "      <th>2</th>\n",
       "      <td>4</td>\n",
       "    </tr>\n",
       "    <tr>\n",
       "      <th>3</th>\n",
       "      <td>1</td>\n",
       "    </tr>\n",
       "    <tr>\n",
       "      <th>4</th>\n",
       "      <td>9</td>\n",
       "    </tr>\n",
       "    <tr>\n",
       "      <th>...</th>\n",
       "      <td>...</td>\n",
       "    </tr>\n",
       "    <tr>\n",
       "      <th>59995</th>\n",
       "      <td>8</td>\n",
       "    </tr>\n",
       "    <tr>\n",
       "      <th>59996</th>\n",
       "      <td>3</td>\n",
       "    </tr>\n",
       "    <tr>\n",
       "      <th>59997</th>\n",
       "      <td>5</td>\n",
       "    </tr>\n",
       "    <tr>\n",
       "      <th>59998</th>\n",
       "      <td>6</td>\n",
       "    </tr>\n",
       "    <tr>\n",
       "      <th>59999</th>\n",
       "      <td>8</td>\n",
       "    </tr>\n",
       "  </tbody>\n",
       "</table>\n",
       "<p>60000 rows × 1 columns</p>\n",
       "</div>"
      ],
      "text/plain": [
       "       0\n",
       "0      5\n",
       "1      0\n",
       "2      4\n",
       "3      1\n",
       "4      9\n",
       "...   ..\n",
       "59995  8\n",
       "59996  3\n",
       "59997  5\n",
       "59998  6\n",
       "59999  8\n",
       "\n",
       "[60000 rows x 1 columns]"
      ]
     },
     "execution_count": 5,
     "metadata": {},
     "output_type": "execute_result"
    }
   ],
   "source": [
    "pd.DataFrame(y_train)"
   ]
  },
  {
   "cell_type": "code",
   "execution_count": 6,
   "id": "ed140aaa",
   "metadata": {},
   "outputs": [
    {
     "data": {
      "text/plain": [
       "<Axes: >"
      ]
     },
     "execution_count": 6,
     "metadata": {},
     "output_type": "execute_result"
    },
    {
     "data": {
      "image/png": "[encoded data removed]",
      "text/plain": [
       "<Figure size 900x700 with 2 Axes>"
      ]
     },
     "metadata": {},
     "output_type": "display_data"
    }
   ],
   "source": [
    "#sns.heatmap(X_train[1],annot=True,cmap=sns.color_palette(\"gray_r\", as_cmap=True))\n",
    "#sns.heatmap(X_train[1],annot=True,cmap=sns.color_palette(\"gray_r\"))\n",
    "plt.figure(figsize=(9, 7))\n",
    "sns.heatmap(X_train[1],annot=True,annot_kws={\"fontsize\": 5},cmap=sns.color_palette(\"gray_r\", as_cmap=True))"
   ]
  },
  {
   "cell_type": "code",
   "execution_count": 7,
   "id": "657a22eb",
   "metadata": {},
   "outputs": [
    {
     "data": {
      "text/plain": [
       "<Axes: >"
      ]
     },
     "execution_count": 7,
     "metadata": {},
     "output_type": "execute_result"
    },
    {
     "data": {
      "image/png": "[encoded data removed]",
      "text/plain": [
       "<Figure size 900x700 with 2 Axes>"
      ]
     },
     "metadata": {},
     "output_type": "display_data"
    }
   ],
   "source": [
    "plt.figure(figsize=(9, 7))\n",
    "sns.heatmap(X_train[7],cmap=sns.color_palette(\"gray_r\", as_cmap=True))"
   ]
  },
  {
   "cell_type": "code",
   "execution_count": 8,
   "id": "a519d545",
   "metadata": {},
   "outputs": [
    {
     "name": "stderr",
     "output_type": "stream",
     "text": [
      "C:\\Users\\VISHAL MAURYA\\anaconda3\\Lib\\site-packages\\seaborn\\_oldcore.py:1498: FutureWarning: is_categorical_dtype is deprecated and will be removed in a future version. Use isinstance(dtype, CategoricalDtype) instead\n",
      "  if pd.api.types.is_categorical_dtype(vector):\n",
      "C:\\Users\\VISHAL MAURYA\\anaconda3\\Lib\\site-packages\\seaborn\\_oldcore.py:1498: FutureWarning: is_categorical_dtype is deprecated and will be removed in a future version. Use isinstance(dtype, CategoricalDtype) instead\n",
      "  if pd.api.types.is_categorical_dtype(vector):\n",
      "C:\\Users\\VISHAL MAURYA\\anaconda3\\Lib\\site-packages\\seaborn\\_oldcore.py:1498: FutureWarning: is_categorical_dtype is deprecated and will be removed in a future version. Use isinstance(dtype, CategoricalDtype) instead\n",
      "  if pd.api.types.is_categorical_dtype(vector):\n"
     ]
    },
    {
     "data": {
      "text/plain": [
       "<Axes: ylabel='count'>"
      ]
     },
     "execution_count": 8,
     "metadata": {},
     "output_type": "execute_result"
    },
    {
     "data": {
      "image/png": "[encoded data removed]",
      "text/plain": [
       "<Figure size 640x480 with 1 Axes>"
      ]
     },
     "metadata": {},
     "output_type": "display_data"
    }
   ],
   "source": [
    "sns.countplot(x=y_train)"
   ]
  },
  {
   "cell_type": "code",
   "execution_count": 9,
   "id": "f8b2249c",
   "metadata": {},
   "outputs": [
    {
     "data": {
      "text/plain": [
       "<Axes: >"
      ]
     },
     "execution_count": 9,
     "metadata": {},
     "output_type": "execute_result"
    },
    {
     "data": {
      "image/png": "[encoded data removed]",
      "text/plain": [
       "<Figure size 900x700 with 2 Axes>"
      ]
     },
     "metadata": {},
     "output_type": "display_data"
    }
   ],
   "source": [
    "#All the digits plot\n",
    "plt.figure(figsize=(9, 7))\n",
    "sns.heatmap(sum(X_train),annot_kws={\"fontsize\": 5},cmap=sns.color_palette(\"gray_r\", as_cmap=True))"
   ]
  },
  {
   "cell_type": "markdown",
   "id": "6ea531f4",
   "metadata": {},
   "source": [
    "# Feedforward Neural Network"
   ]
  },
  {
   "cell_type": "code",
   "execution_count": 91,
   "id": "f7d16527",
   "metadata": {},
   "outputs": [
    {
     "name": "stdout",
     "output_type": "stream",
     "text": [
      "Epoch 1/3\n",
      "1875/1875 [==============================] - 10s 4ms/step - loss: 0.2600 - accuracy: 0.9236\n",
      "Epoch 2/3\n",
      "1875/1875 [==============================] - 8s 4ms/step - loss: 0.1062 - accuracy: 0.9670\n",
      "Epoch 3/3\n",
      "1875/1875 [==============================] - 7s 4ms/step - loss: 0.0725 - accuracy: 0.9774\n",
      "1875/1875 [==============================] - 5s 3ms/step - loss: 0.0517 - accuracy: 0.9837\n",
      "0.0517047643661499\n",
      "0.9836500287055969\n",
      "313/313 [==============================] - 1s 3ms/step - loss: 0.0972 - accuracy: 0.9694\n",
      "0.09717695415019989\n",
      "0.9693999886512756\n"
     ]
    }
   ],
   "source": [
    "model1 = tf.keras.models.Sequential()     \n",
    "model1.add(tf.keras.layers.Flatten(input_shape=(28,28)))      # Converts 2D input into 1D input\n",
    "model1.add(tf.keras.layers.Dense(units=128, activation=tf.nn.relu))\n",
    "model1.add(tf.keras.layers.Dense(units=128, activation=tf.nn.relu))\n",
    "model1.add(tf.keras.layers.Dense(units=10, activation=tf.nn.softmax))\n",
    "\n",
    "model1.compile(optimizer='adam', loss='sparse_categorical_crossentropy', metrics=['accuracy'])\n",
    "\n",
    "model1.fit(X_train, y_train, epochs=3)\n",
    "\n",
    "val_loss, val_acc = model1.evaluate(X_train, y_train)\n",
    "print(val_loss)\n",
    "print(val_acc)\n",
    "\n",
    "val_loss, val_acc = model1.evaluate(X_test, y_test)\n",
    "print(val_loss)\n",
    "print(val_acc)"
   ]
  },
  {
   "cell_type": "code",
   "execution_count": 34,
   "id": "5d70d7ce",
   "metadata": {},
   "outputs": [
    {
     "name": "stdout",
     "output_type": "stream",
     "text": [
      "313/313 [==============================] - 0s 1ms/step\n"
     ]
    },
    {
     "data": {
      "text/plain": [
       "0.9744"
      ]
     },
     "execution_count": 34,
     "metadata": {},
     "output_type": "execute_result"
    }
   ],
   "source": [
    "from sklearn.metrics import accuracy_score\n",
    "accuracy_score(y_test,np.argmax(model1.predict(X_test), axis=1))"
   ]
  },
  {
   "cell_type": "code",
   "execution_count": 65,
   "id": "a5b2ec9c",
   "metadata": {},
   "outputs": [
    {
     "name": "stdout",
     "output_type": "stream",
     "text": [
      "Epoch 1/3\n",
      "1875/1875 [==============================] - 9s 4ms/step - loss: 0.2261 - accuracy: 0.9333\n",
      "Epoch 2/3\n",
      "1875/1875 [==============================] - 8s 4ms/step - loss: 0.0944 - accuracy: 0.9709\n",
      "Epoch 3/3\n",
      "1875/1875 [==============================] - 8s 4ms/step - loss: 0.0673 - accuracy: 0.9793\n",
      "1875/1875 [==============================] - 5s 3ms/step - loss: 48.6062 - accuracy: 0.9637\n",
      "[48.60615539550781, 0.9637166857719421]\n",
      "313/313 [==============================] - 1s 3ms/step - loss: 59.6815 - accuracy: 0.9581\n",
      "[59.68149948120117, 0.9581000208854675]\n"
     ]
    }
   ],
   "source": [
    "# Model for 0-1 transformed data\n",
    "model22= tf.keras.models.Sequential()     \n",
    "model22.add(tf.keras.layers.Flatten())      # Converts 2D input into 1D input\n",
    "model22.add(tf.keras.layers.Dense(units=128, activation=tf.nn.relu))\n",
    "model22.add(tf.keras.layers.Dense(units=128, activation=tf.nn.relu))\n",
    "model22.add(tf.keras.layers.Dense(units=10, activation=tf.nn.softmax))\n",
    "model22.compile(optimizer='adam', loss='sparse_categorical_crossentropy', metrics=['accuracy'])\n",
    "model22.fit(X_train2, y_train, epochs=3)\n",
    "print(model1.evaluate(X_train_o, y_train))\n",
    "print(model1.evaluate(X_test_o, y_test))"
   ]
  },
  {
   "cell_type": "code",
   "execution_count": 53,
   "id": "625bc9fb",
   "metadata": {},
   "outputs": [
    {
     "name": "stdout",
     "output_type": "stream",
     "text": [
      "Epoch 1/3\n",
      "1875/1875 [==============================] - 9s 4ms/step - loss: 0.2576 - accuracy: 0.9251\n",
      "Epoch 2/3\n",
      "1875/1875 [==============================] - 8s 4ms/step - loss: 0.1023 - accuracy: 0.9686\n",
      "Epoch 3/3\n",
      "1875/1875 [==============================] - 8s 4ms/step - loss: 0.0695 - accuracy: 0.9781\n",
      "1875/1875 [==============================] - 5s 2ms/step - loss: 0.0437 - accuracy: 0.9872\n",
      "[0.043703775852918625, 0.9872000217437744]\n",
      "313/313 [==============================] - 1s 3ms/step - loss: 0.0906 - accuracy: 0.9723\n",
      "[0.09063330292701721, 0.9722999930381775]\n"
     ]
    }
   ],
   "source": [
    "model2= tf.keras.models.Sequential()     \n",
    "model2.add(tf.keras.layers.Flatten())      # Converts 2D input into 1D input\n",
    "model2.add(tf.keras.layers.Dense(units=200, activation=tf.nn.relu))\n",
    "model2.add(tf.keras.layers.Dense(units=50, activation=tf.nn.relu))\n",
    "model2.add(tf.keras.layers.Dense(units=10, activation=tf.nn.softmax))\n",
    "model2.compile(optimizer='adam', loss='sparse_categorical_crossentropy', metrics=['accuracy'])\n",
    "model2.fit(X_train, y_train, epochs=3)\n",
    "print(model2.evaluate(X_train, y_train))\n",
    "print(model2.evaluate(X_test, y_test))"
   ]
  },
  {
   "cell_type": "code",
   "execution_count": 56,
   "id": "e1586647",
   "metadata": {},
   "outputs": [
    {
     "name": "stdout",
     "output_type": "stream",
     "text": [
      "Epoch 1/3\n",
      "1875/1875 [==============================] - 9s 4ms/step - loss: 0.2620 - accuracy: 0.9219\n",
      "Epoch 2/3\n",
      "1875/1875 [==============================] - 8s 4ms/step - loss: 0.1072 - accuracy: 0.9664\n",
      "Epoch 3/3\n",
      "1875/1875 [==============================] - 8s 4ms/step - loss: 0.0737 - accuracy: 0.9771\n",
      "1875/1875 [==============================] - 5s 2ms/step - loss: 0.0541 - accuracy: 0.9829\n",
      "[0.05409498140215874, 0.98294997215271]\n",
      "313/313 [==============================] - 1s 3ms/step - loss: 0.1014 - accuracy: 0.9697\n",
      "[0.10140378773212433, 0.9696999788284302]\n"
     ]
    }
   ],
   "source": [
    "model3= tf.keras.models.Sequential()     \n",
    "model3.add(tf.keras.layers.Flatten())      # Converts 2D input into 1D input\n",
    "model3.add(tf.keras.layers.Dense(units=150, activation=tf.nn.relu))\n",
    "model3.add(tf.keras.layers.Dense(units=100, activation=tf.nn.relu))\n",
    "model3.add(tf.keras.layers.Dense(units=50, activation=tf.nn.relu))\n",
    "model3.add(tf.keras.layers.Dense(units=10, activation=tf.nn.softmax))\n",
    "model3.compile(optimizer='adam', loss='sparse_categorical_crossentropy', metrics=['accuracy'])\n",
    "model3.fit(X_train, y_train, epochs=3)\n",
    "print(model3.evaluate(X_train, y_train))\n",
    "print(model3.evaluate(X_test, y_test))"
   ]
  },
  {
   "cell_type": "code",
   "execution_count": 54,
   "id": "456e8dc1",
   "metadata": {},
   "outputs": [
    {
     "name": "stdout",
     "output_type": "stream",
     "text": [
      "Epoch 1/3\n",
      "1875/1875 [==============================] - 10s 5ms/step - loss: 0.2489 - accuracy: 0.9255\n",
      "Epoch 2/3\n",
      "1875/1875 [==============================] - 9s 5ms/step - loss: 0.0997 - accuracy: 0.9689\n",
      "Epoch 3/3\n",
      "1875/1875 [==============================] - 8s 5ms/step - loss: 0.0696 - accuracy: 0.9778\n",
      "1875/1875 [==============================] - 5s 3ms/step - loss: 0.0428 - accuracy: 0.9871\n",
      "[0.04282435029745102, 0.9871333241462708]\n",
      "313/313 [==============================] - 1s 3ms/step - loss: 0.0925 - accuracy: 0.9725\n",
      "[0.0925331711769104, 0.9725000262260437]\n"
     ]
    }
   ],
   "source": [
    "model4= tf.keras.models.Sequential()     \n",
    "model4.add(tf.keras.layers.Flatten())      # Converts 2D input into 1D input\n",
    "model4.add(tf.keras.layers.Dense(units=200, activation=tf.nn.relu))\n",
    "model4.add(tf.keras.layers.Dense(units=100, activation=tf.nn.relu))\n",
    "model4.add(tf.keras.layers.Dense(units=50, activation=tf.nn.relu))\n",
    "model4.add(tf.keras.layers.Dense(units=10, activation=tf.nn.softmax))\n",
    "model4.compile(optimizer='adam', loss='sparse_categorical_crossentropy', metrics=['accuracy'])\n",
    "model4.fit(X_train, y_train, epochs=3)\n",
    "print(model4.evaluate(X_train, y_train))\n",
    "print(model4.evaluate(X_test, y_test))"
   ]
  },
  {
   "cell_type": "code",
   "execution_count": 62,
   "id": "17125b52",
   "metadata": {},
   "outputs": [
    {
     "name": "stdout",
     "output_type": "stream",
     "text": [
      "Epoch 1/7\n",
      "1875/1875 [==============================] - 8s 4ms/step - loss: 0.3082 - accuracy: 0.9112\n",
      "Epoch 2/7\n",
      "1875/1875 [==============================] - 7s 4ms/step - loss: 0.1210 - accuracy: 0.9631\n",
      "Epoch 3/7\n",
      "1875/1875 [==============================] - 7s 4ms/step - loss: 0.0840 - accuracy: 0.9736\n",
      "Epoch 4/7\n",
      "1875/1875 [==============================] - 7s 4ms/step - loss: 0.0627 - accuracy: 0.9797\n",
      "Epoch 5/7\n",
      "1875/1875 [==============================] - 7s 4ms/step - loss: 0.0486 - accuracy: 0.9843\n",
      "Epoch 6/7\n",
      "1875/1875 [==============================] - 7s 4ms/step - loss: 0.0371 - accuracy: 0.9880\n",
      "Epoch 7/7\n",
      "1875/1875 [==============================] - 7s 4ms/step - loss: 0.0294 - accuracy: 0.9900\n",
      "1875/1875 [==============================] - 5s 2ms/step - loss: 0.0186 - accuracy: 0.9942\n",
      "[0.01862829364836216, 0.9941666722297668]\n",
      "313/313 [==============================] - 1s 2ms/step - loss: 0.0971 - accuracy: 0.9720\n",
      "[0.09713432937860489, 0.972000002861023]\n"
     ]
    }
   ],
   "source": [
    "model5= tf.keras.models.Sequential()     \n",
    "model5.add(tf.keras.layers.Flatten())      # Converts 2D input into 1D input\n",
    "model5.add(tf.keras.layers.Dense(units=128, activation=tf.nn.relu))\n",
    "model5.add(tf.keras.layers.Dense(units=64, activation=tf.nn.relu))\n",
    "model5.add(tf.keras.layers.Dense(units=32, activation=tf.nn.softmax))\n",
    "model5.compile(optimizer='adam', loss='sparse_categorical_crossentropy', metrics=['accuracy'])\n",
    "model5.fit(X_train, y_train, epochs=7)\n",
    "print(model5.evaluate(X_train, y_train))\n",
    "print(model5.evaluate(X_test, y_test))"
   ]
  },
  {
   "cell_type": "code",
   "execution_count": 63,
   "id": "44bb48b2",
   "metadata": {},
   "outputs": [
    {
     "name": "stdout",
     "output_type": "stream",
     "text": [
      "Epoch 1/3\n",
      "1875/1875 [==============================] - 8s 4ms/step - loss: 0.2549 - accuracy: 0.9269\n",
      "Epoch 2/3\n",
      "1875/1875 [==============================] - 7s 4ms/step - loss: 0.1020 - accuracy: 0.9691\n",
      "Epoch 3/3\n",
      "1875/1875 [==============================] - 7s 4ms/step - loss: 0.0704 - accuracy: 0.9781\n",
      "1875/1875 [==============================] - 5s 2ms/step - loss: 0.0435 - accuracy: 0.9871\n",
      "[0.0435049794614315, 0.9870833158493042]\n",
      "313/313 [==============================] - 1s 2ms/step - loss: 0.0884 - accuracy: 0.9728\n",
      "[0.08838468790054321, 0.9728000164031982]\n"
     ]
    }
   ],
   "source": [
    "model6= tf.keras.models.Sequential()     \n",
    "model6.add(tf.keras.layers.Flatten())      # Converts 2D input into 1D input\n",
    "model6.add(tf.keras.layers.Dense(units=150, activation=tf.nn.relu))\n",
    "model6.add(tf.keras.layers.Dense(units=90, activation=tf.nn.relu))\n",
    "model6.add(tf.keras.layers.Dense(units=10, activation=tf.nn.softmax))\n",
    "model6.compile(optimizer='adam', loss='sparse_categorical_crossentropy', metrics=['accuracy'])\n",
    "history6=model6.fit(X_train, y_train, epochs=3)\n",
    "print(model6.evaluate(X_train, y_train))\n",
    "print(model6.evaluate(X_test, y_test))"
   ]
  },
  {
   "cell_type": "code",
   "execution_count": 55,
   "id": "624b8d08",
   "metadata": {},
   "outputs": [],
   "source": [
    "# plt.plot(history.history6['loss'])"
   ]
  },
  {
   "cell_type": "code",
   "execution_count": 72,
   "id": "c40857a2",
   "metadata": {},
   "outputs": [
    {
     "name": "stdout",
     "output_type": "stream",
     "text": [
      "Epoch 1/8\n",
      "1875/1875 [==============================] - 7s 3ms/step - loss: 0.3172 - accuracy: 0.9100\n",
      "Epoch 2/8\n",
      "1875/1875 [==============================] - 7s 4ms/step - loss: 0.1444 - accuracy: 0.9579\n",
      "Epoch 3/8\n",
      "1875/1875 [==============================] - 7s 4ms/step - loss: 0.1001 - accuracy: 0.9706\n",
      "Epoch 4/8\n",
      "1875/1875 [==============================] - 7s 4ms/step - loss: 0.0738 - accuracy: 0.9787\n",
      "Epoch 5/8\n",
      "1875/1875 [==============================] - 8s 4ms/step - loss: 0.0576 - accuracy: 0.9826\n",
      "Epoch 6/8\n",
      "1875/1875 [==============================] - 7s 4ms/step - loss: 0.0453 - accuracy: 0.9862\n",
      "Epoch 7/8\n",
      "1875/1875 [==============================] - 7s 4ms/step - loss: 0.0360 - accuracy: 0.9895\n",
      "Epoch 8/8\n",
      "1875/1875 [==============================] - 7s 3ms/step - loss: 0.0296 - accuracy: 0.9918\n",
      "1875/1875 [==============================] - 4s 2ms/step - loss: 0.0192 - accuracy: 0.9954\n",
      "[0.019195687025785446, 0.9953500032424927]\n",
      "313/313 [==============================] - 1s 3ms/step - loss: 0.0816 - accuracy: 0.9761\n",
      "[0.08155084401369095, 0.9761000275611877]\n"
     ]
    }
   ],
   "source": [
    "model7= tf.keras.models.Sequential()     \n",
    "model7.add(tf.keras.layers.Flatten())      # Converts 2D input into 1D input\n",
    "model7.add(tf.keras.layers.Dense(units=128, activation=tf.nn.relu))\n",
    "model7.add(tf.keras.layers.Dense(units=10, activation=tf.nn.softmax))\n",
    "model7.compile(optimizer='adam', loss='sparse_categorical_crossentropy', metrics=['accuracy'])\n",
    "model7.fit(X_train, y_train, epochs=8)\n",
    "print(model7.evaluate(X_train, y_train))\n",
    "print(model7.evaluate(X_test, y_test))"
   ]
  },
  {
   "cell_type": "code",
   "execution_count": 77,
   "id": "d000d051",
   "metadata": {},
   "outputs": [
    {
     "name": "stdout",
     "output_type": "stream",
     "text": [
      "Epoch 1/7\n",
      "1875/1875 [==============================] - 8s 4ms/step - loss: 0.3130 - accuracy: 0.9128\n",
      "Epoch 2/7\n",
      "1875/1875 [==============================] - 7s 4ms/step - loss: 0.1415 - accuracy: 0.9579\n",
      "Epoch 3/7\n",
      "1875/1875 [==============================] - 7s 4ms/step - loss: 0.0970 - accuracy: 0.9706\n",
      "Epoch 4/7\n",
      "1875/1875 [==============================] - 7s 4ms/step - loss: 0.0729 - accuracy: 0.9780\n",
      "Epoch 5/7\n",
      "1875/1875 [==============================] - 6s 3ms/step - loss: 0.0561 - accuracy: 0.9834\n",
      "Epoch 6/7\n",
      "1875/1875 [==============================] - 7s 3ms/step - loss: 0.0443 - accuracy: 0.9869\n",
      "Epoch 7/7\n",
      "1875/1875 [==============================] - 7s 4ms/step - loss: 0.0356 - accuracy: 0.9898\n",
      "1875/1875 [==============================] - 5s 2ms/step - loss: 0.0265 - accuracy: 0.9934\n",
      "[0.02653130516409874, 0.9934166669845581]\n",
      "313/313 [==============================] - 1s 2ms/step - loss: 0.0887 - accuracy: 0.9733\n",
      "[0.08868298679590225, 0.9732999801635742]\n"
     ]
    }
   ],
   "source": [
    "model8= tf.keras.models.Sequential()     \n",
    "model8.add(tf.keras.layers.Flatten())      # Converts 2D input into 1D input\n",
    "model8.add(tf.keras.layers.Dense(units=128, activation=tf.nn.relu))\n",
    "model8.add(tf.keras.layers.Dense(units=10, activation=tf.nn.softmax))\n",
    "model8.compile(optimizer='adam', loss='sparse_categorical_crossentropy', metrics=['accuracy'])\n",
    "model8.fit(X_train, y_train, epochs=7)\n",
    "print(model8.evaluate(X_train, y_train))\n",
    "print(model8.evaluate(X_test, y_test))"
   ]
  },
  {
   "cell_type": "code",
   "execution_count": 81,
   "id": "96236d0e",
   "metadata": {},
   "outputs": [
    {
     "name": "stdout",
     "output_type": "stream",
     "text": [
      "313/313 [==============================] - 1s 2ms/step\n",
      "313/313 [==============================] - 1s 2ms/step\n",
      "313/313 [==============================] - 1s 3ms/step\n",
      "313/313 [==============================] - 1s 2ms/step\n",
      "313/313 [==============================] - 1s 3ms/step\n",
      "313/313 [==============================] - 1s 3ms/step\n",
      "313/313 [==============================] - 1s 2ms/step\n"
     ]
    },
    {
     "data": {
      "text/plain": [
       "97.32"
      ]
     },
     "execution_count": 81,
     "metadata": {},
     "output_type": "execute_result"
    }
   ],
   "source": [
    "# Averaging the prediction probabilities of different models\n",
    "vote=model1.predict(X_test)\n",
    "+model2.predict(X_test)\n",
    "+model3.predict(X_test)\n",
    "# +model4.predict(X_test)\n",
    "+model5.predict(X_test)\n",
    "+model6.predict(X_test)\n",
    "+model7.predict(X_test)\n",
    "+model8.predict(X_test)\n",
    "Error_test = pd.DataFrame(pd.DataFrame({'Actual': y_test, 'Predicted': np.argmax(vote, axis=1)}), columns=['Actual', 'Predicted'])\n",
    "Error_test.reset_index(drop=True, inplace=True)\n",
    "Error_test[\"True Prediction\"]=Error_test['Actual']==Error_test['Predicted']\n",
    "(Error_test['True Prediction'] == True).sum()/100"
   ]
  },
  {
   "cell_type": "code",
   "execution_count": 21,
   "id": "a0c27b7c",
   "metadata": {},
   "outputs": [],
   "source": [
    "# train_predictions = model1.predict(X_train)    \n",
    "# Error_train = pd.DataFrame(pd.DataFrame({'Actual': y_train, 'Predicted': np.argmax(train_predictions, axis=1)}), columns=['Actual', 'Predicted'])\n",
    "# Error_train.reset_index(drop=True, inplace=True)\n",
    "# Error_train[\"True Prediction\"]=Error_train['Actual']==Error_train['Predicted']\n",
    "# plt.figure(figsize=(8, 6))\n",
    "# sns.countplot(data=Error_train, hue=\"True Prediction\", x='Actual')"
   ]
  },
  {
   "cell_type": "markdown",
   "id": "1ff0ec70",
   "metadata": {},
   "source": [
    "#  Agmentation"
   ]
  },
  {
   "cell_type": "code",
   "execution_count": 93,
   "id": "64377557",
   "metadata": {},
   "outputs": [
    {
     "name": "stdout",
     "output_type": "stream",
     "text": [
      "313/313 [==============================] - 1s 2ms/step\n"
     ]
    },
    {
     "name": "stderr",
     "output_type": "stream",
     "text": [
      "C:\\Users\\VISHAL MAURYA\\anaconda3\\Lib\\site-packages\\seaborn\\_oldcore.py:1498: FutureWarning: is_categorical_dtype is deprecated and will be removed in a future version. Use isinstance(dtype, CategoricalDtype) instead\n",
      "  if pd.api.types.is_categorical_dtype(vector):\n",
      "C:\\Users\\VISHAL MAURYA\\anaconda3\\Lib\\site-packages\\seaborn\\_oldcore.py:1498: FutureWarning: is_categorical_dtype is deprecated and will be removed in a future version. Use isinstance(dtype, CategoricalDtype) instead\n",
      "  if pd.api.types.is_categorical_dtype(vector):\n",
      "C:\\Users\\VISHAL MAURYA\\anaconda3\\Lib\\site-packages\\seaborn\\_oldcore.py:1498: FutureWarning: is_categorical_dtype is deprecated and will be removed in a future version. Use isinstance(dtype, CategoricalDtype) instead\n",
      "  if pd.api.types.is_categorical_dtype(vector):\n",
      "C:\\Users\\VISHAL MAURYA\\anaconda3\\Lib\\site-packages\\seaborn\\_oldcore.py:1498: FutureWarning: is_categorical_dtype is deprecated and will be removed in a future version. Use isinstance(dtype, CategoricalDtype) instead\n",
      "  if pd.api.types.is_categorical_dtype(vector):\n"
     ]
    },
    {
     "data": {
      "text/plain": [
       "<Axes: xlabel='Actual', ylabel='count'>"
      ]
     },
     "execution_count": 93,
     "metadata": {},
     "output_type": "execute_result"
    },
    {
     "data": {
      "image/png": "[encoded data removed]",
      "text/plain": [
       "<Figure size 800x600 with 1 Axes>"
      ]
     },
     "metadata": {},
     "output_type": "display_data"
    }
   ],
   "source": [
    "test_predictions = model1.predict(X_test)        \n",
    "Error_test = pd.DataFrame(pd.DataFrame({'Actual': y_test, 'Predicted': np.argmax(test_predictions, axis=1)}), columns=['Actual', 'Predicted'])\n",
    "Error_test.reset_index(drop=True, inplace=True)\n",
    "Error_test[\"True Prediction\"]=Error_test['Actual']==Error_test['Predicted']\n",
    "plt.figure(figsize=(8, 6))\n",
    "sns.countplot(data=Error_test, hue=\"True Prediction\", x='Actual')"
   ]
  },
  {
   "cell_type": "code",
   "execution_count": 95,
   "id": "77b2c1ae",
   "metadata": {},
   "outputs": [
    {
     "data": {
      "text/plain": [
       "((65949, 28, 28), (65949,))"
      ]
     },
     "execution_count": 95,
     "metadata": {},
     "output_type": "execute_result"
    }
   ],
   "source": [
    "# For 5\n",
    "X_train_5=[]\n",
    "five=[X_train[i] for i in range(60000) if y_train[i]==9]\n",
    "X_train_5=np.concatenate((X_train,five))\n",
    "y_train_5=np.concatenate((y_train,[9] * len(five)))\n",
    "X_train_5.shape,y_train_5.shape"
   ]
  },
  {
   "cell_type": "code",
   "execution_count": 96,
   "id": "c15fd6b9",
   "metadata": {},
   "outputs": [
    {
     "name": "stdout",
     "output_type": "stream",
     "text": [
      "Epoch 1/3\n",
      "2061/2061 [==============================] - 10s 4ms/step - loss: 0.2465 - accuracy: 0.9247\n",
      "Epoch 2/3\n",
      "2061/2061 [==============================] - 8s 4ms/step - loss: 0.0987 - accuracy: 0.9698\n",
      "Epoch 3/3\n",
      "2061/2061 [==============================] - 8s 4ms/step - loss: 0.0673 - accuracy: 0.9785\n",
      "2061/2061 [==============================] - 6s 3ms/step - loss: 0.0415 - accuracy: 0.9875\n",
      "[0.0414913035929203, 0.9874903559684753]\n",
      "1875/1875 [==============================] - 5s 2ms/step - loss: 0.0410 - accuracy: 0.9875\n",
      "[0.04098247364163399, 0.9875333309173584]\n",
      "313/313 [==============================] - 1s 3ms/step - loss: 0.0919 - accuracy: 0.9718\n",
      "[0.09191987663507462, 0.9718000292778015]\n"
     ]
    }
   ],
   "source": [
    "model_5= tf.keras.models.Sequential()     \n",
    "model_5.add(tf.keras.layers.Flatten())      # Converts 2D input into 1D input\n",
    "model_5.add(tf.keras.layers.Dense(units=128, activation=tf.nn.relu))\n",
    "model_5.add(tf.keras.layers.Dense(units=128, activation=tf.nn.relu))\n",
    "model_5.add(tf.keras.layers.Dense(units=10, activation=tf.nn.softmax))\n",
    "\n",
    "model_5.compile(optimizer='adam', loss='sparse_categorical_crossentropy', metrics=['accuracy'])\n",
    "\n",
    "model_5.fit(X_train_5, y_train_5, epochs=3)\n",
    "\n",
    "print(model_5.evaluate(X_train_5, y_train_5))\n",
    "print(model_5.evaluate(X_train, y_train))\n",
    "print(model_5.evaluate(X_test, y_test))"
   ]
  },
  {
   "cell_type": "code",
   "execution_count": 97,
   "id": "c059df3f",
   "metadata": {},
   "outputs": [
    {
     "name": "stdout",
     "output_type": "stream",
     "text": [
      "313/313 [==============================] - 1s 2ms/step\n"
     ]
    },
    {
     "name": "stderr",
     "output_type": "stream",
     "text": [
      "C:\\Users\\VISHAL MAURYA\\anaconda3\\Lib\\site-packages\\seaborn\\_oldcore.py:1498: FutureWarning: is_categorical_dtype is deprecated and will be removed in a future version. Use isinstance(dtype, CategoricalDtype) instead\n",
      "  if pd.api.types.is_categorical_dtype(vector):\n",
      "C:\\Users\\VISHAL MAURYA\\anaconda3\\Lib\\site-packages\\seaborn\\_oldcore.py:1498: FutureWarning: is_categorical_dtype is deprecated and will be removed in a future version. Use isinstance(dtype, CategoricalDtype) instead\n",
      "  if pd.api.types.is_categorical_dtype(vector):\n",
      "C:\\Users\\VISHAL MAURYA\\anaconda3\\Lib\\site-packages\\seaborn\\_oldcore.py:1498: FutureWarning: is_categorical_dtype is deprecated and will be removed in a future version. Use isinstance(dtype, CategoricalDtype) instead\n",
      "  if pd.api.types.is_categorical_dtype(vector):\n",
      "C:\\Users\\VISHAL MAURYA\\anaconda3\\Lib\\site-packages\\seaborn\\_oldcore.py:1498: FutureWarning: is_categorical_dtype is deprecated and will be removed in a future version. Use isinstance(dtype, CategoricalDtype) instead\n",
      "  if pd.api.types.is_categorical_dtype(vector):\n"
     ]
    },
    {
     "data": {
      "text/plain": [
       "<Axes: xlabel='Actual', ylabel='count'>"
      ]
     },
     "execution_count": 97,
     "metadata": {},
     "output_type": "execute_result"
    },
    {
     "data": {
      "image/png": "[encoded data removed]",
      "text/plain": [
       "<Figure size 800x600 with 1 Axes>"
      ]
     },
     "metadata": {},
     "output_type": "display_data"
    }
   ],
   "source": [
    "test_predictions = model_5.predict(X_test)\n",
    "Error_test = pd.DataFrame(pd.DataFrame({'Actual': y_test, 'Predicted': np.argmax(test_predictions, axis=1)}), columns=['Actual', 'Predicted'])\n",
    "Error_test.reset_index(drop=True, inplace=True)\n",
    "Error_test[\"True Prediction\"]=Error_test['Actual']==Error_test['Predicted']\n",
    "plt.figure(figsize=(8, 6))\n",
    "sns.countplot(data=Error_test, hue=\"True Prediction\", x='Actual')"
   ]
  },
  {
   "cell_type": "code",
   "execution_count": 103,
   "id": "e4b1372c",
   "metadata": {},
   "outputs": [
    {
     "data": {
      "text/plain": [
       "((76791, 28, 28), (76791,))"
      ]
     },
     "execution_count": 103,
     "metadata": {},
     "output_type": "execute_result"
    }
   ],
   "source": [
    "# For 5 and 9\n",
    "X_train_59=[]\n",
    "nine=[X_train[i] for i in range(60000) if y_train[i]==9]\n",
    "five=[X_train[i] for i in range(60000) if y_train[i]==5]\n",
    "X_train_59=np.concatenate((X_train,five,nine,five))\n",
    "y_train_59=np.concatenate((y_train,[5]*len(five),[9] * len(nine),[5]*len(five)))\n",
    "X_train_59.shape,y_train_59.shape"
   ]
  },
  {
   "cell_type": "code",
   "execution_count": 104,
   "id": "4e16f5e3",
   "metadata": {},
   "outputs": [
    {
     "name": "stdout",
     "output_type": "stream",
     "text": [
      "Epoch 1/3\n",
      "2400/2400 [==============================] - 11s 4ms/step - loss: 0.2249 - accuracy: 0.9316\n",
      "Epoch 2/3\n",
      "2400/2400 [==============================] - 10s 4ms/step - loss: 0.0871 - accuracy: 0.9725\n",
      "Epoch 3/3\n",
      "2400/2400 [==============================] - 10s 4ms/step - loss: 0.0564 - accuracy: 0.9816\n",
      "2400/2400 [==============================] - 6s 2ms/step - loss: 0.0396 - accuracy: 0.9872\n",
      "[0.039629291743040085, 0.9872250556945801]\n",
      "1875/1875 [==============================] - 5s 3ms/step - loss: 0.0457 - accuracy: 0.9849\n",
      "[0.04574171081185341, 0.9848999977111816]\n",
      "313/313 [==============================] - 1s 2ms/step - loss: 0.0980 - accuracy: 0.9709\n",
      "[0.0980280265212059, 0.9708999991416931]\n"
     ]
    }
   ],
   "source": [
    "model59 = tf.keras.models.Sequential()     \n",
    "model59.add(tf.keras.layers.Flatten())      # Converts 2D input into 1D input\n",
    "model59.add(tf.keras.layers.Dense(units=128, activation=tf.nn.relu))\n",
    "model59.add(tf.keras.layers.Dense(units=128, activation=tf.nn.relu))\n",
    "model59.add(tf.keras.layers.Dense(units=10, activation=tf.nn.softmax))\n",
    "model59.compile(optimizer='adam', loss='sparse_categorical_crossentropy', metrics=['accuracy'])\n",
    "model59.fit(X_train_59, y_train_59, epochs=3)\n",
    "print(model59.evaluate(X_train_59, y_train_59))\n",
    "print(model59.evaluate(X_train, y_train))\n",
    "print(model59.evaluate(X_test, y_test))"
   ]
  },
  {
   "cell_type": "code",
   "execution_count": 105,
   "id": "f6e3e7d9",
   "metadata": {},
   "outputs": [
    {
     "name": "stdout",
     "output_type": "stream",
     "text": [
      "313/313 [==============================] - 1s 2ms/step\n"
     ]
    },
    {
     "name": "stderr",
     "output_type": "stream",
     "text": [
      "C:\\Users\\VISHAL MAURYA\\anaconda3\\Lib\\site-packages\\seaborn\\_oldcore.py:1498: FutureWarning: is_categorical_dtype is deprecated and will be removed in a future version. Use isinstance(dtype, CategoricalDtype) instead\n",
      "  if pd.api.types.is_categorical_dtype(vector):\n",
      "C:\\Users\\VISHAL MAURYA\\anaconda3\\Lib\\site-packages\\seaborn\\_oldcore.py:1498: FutureWarning: is_categorical_dtype is deprecated and will be removed in a future version. Use isinstance(dtype, CategoricalDtype) instead\n",
      "  if pd.api.types.is_categorical_dtype(vector):\n",
      "C:\\Users\\VISHAL MAURYA\\anaconda3\\Lib\\site-packages\\seaborn\\_oldcore.py:1498: FutureWarning: is_categorical_dtype is deprecated and will be removed in a future version. Use isinstance(dtype, CategoricalDtype) instead\n",
      "  if pd.api.types.is_categorical_dtype(vector):\n",
      "C:\\Users\\VISHAL MAURYA\\anaconda3\\Lib\\site-packages\\seaborn\\_oldcore.py:1498: FutureWarning: is_categorical_dtype is deprecated and will be removed in a future version. Use isinstance(dtype, CategoricalDtype) instead\n",
      "  if pd.api.types.is_categorical_dtype(vector):\n"
     ]
    },
    {
     "data": {
      "text/plain": [
       "<Axes: xlabel='Actual', ylabel='count'>"
      ]
     },
     "execution_count": 105,
     "metadata": {},
     "output_type": "execute_result"
    },
    {
     "data": {
      "image/png": "[encoded data removed]",
      "text/plain": [
       "<Figure size 800x600 with 1 Axes>"
      ]
     },
     "metadata": {},
     "output_type": "display_data"
    }
   ],
   "source": [
    "test_predictions = model3.predict(X_test)\n",
    "Error_test = pd.DataFrame(pd.DataFrame({'Actual': y_test, 'Predicted': np.argmax(test_predictions, axis=1)}), columns=['Actual', 'Predicted'])\n",
    "Error_test.reset_index(drop=True, inplace=True)\n",
    "Error_test[\"True Prediction\"]=Error_test['Actual']==Error_test['Predicted']\n",
    "plt.figure(figsize=(8, 6))\n",
    "sns.countplot(data=Error_test, hue=\"True Prediction\", x='Actual')"
   ]
  }
 ],
 "metadata": {
  "kernelspec": {
   "display_name": "Python 3 (ipykernel)",
   "language": "python",
   "name": "python3"
  },
  "language_info": {
   "codemirror_mode": {
    "name": "ipython",
    "version": 3
   },
   "file_extension": ".py",
   "mimetype": "text/x-python",
   "name": "python",
   "nbconvert_exporter": "python",
   "pygments_lexer": "ipython3",
   "version": "3.11.5"
  }
 },
 "nbformat": 4,
 "nbformat_minor": 5
}
